{
 "cells": [
  {
   "cell_type": "markdown",
   "id": "89f5c0b8-ebc3-42ae-945a-fe1237a15c2b",
   "metadata": {},
   "source": [
    "# Data Science Tools and Ecosystem "
   ]
  },
  {
   "cell_type": "markdown",
   "id": "ad7b5680-42a5-4e8f-82c0-1f94aaae6335",
   "metadata": {},
   "source": [
    "## In this notebook, Data Science Tools and Ecosystem are summarized."
   ]
  },
  {
   "cell_type": "markdown",
   "id": "d0d40274-f9b7-4402-8fee-b2d293c0acce",
   "metadata": {},
   "source": [
    "**Objectives:**\n",
    "\n",
    "- Data Science Tools\n",
    "- Minutes to Hours\n",
    "- Popular languages\n",
    "- Libraries\n",
    "- Arithmatic Expression"
   ]
  },
  {
   "cell_type": "markdown",
   "id": "8347614c-8b9b-4346-9e2a-60012f26e7c4",
   "metadata": {},
   "source": [
    "## Some of the popular languages that Data Scientists use are:\n",
    "\n",
    "1. Python\n",
    "2. R\n",
    "3. Julia\n",
    "4. SQL\n"
   ]
  },
  {
   "cell_type": "markdown",
   "id": "9ee89b86-b9a3-407d-92d7-213b658c1cd2",
   "metadata": {},
   "source": [
    "## Some of the commonly used libraries used by Data Scientists include:\n",
    "\n",
    "1. Pandas\n",
    "2. Numpy\n",
    "3. Matplotlib"
   ]
  },
  {
   "cell_type": "markdown",
   "id": "a09d3653-9335-4760-a79d-c877fbcf65b0",
   "metadata": {},
   "source": [
    "| Data Science Tools |\n",
    "| ----------------- |\n",
    "|PixieDust|\n",
    "|Atlas|\n",
    "|MySQL|\n"
   ]
  },
  {
   "cell_type": "markdown",
   "id": "13119324-d12c-47da-bd5e-7e122622fd00",
   "metadata": {},
   "source": [
    "### Below are a few examples of evaluating arithmetic expressions in Python:\n",
    "\n",
    "a+b\n",
    "\n",
    "a-b\n",
    "\n",
    "a*b\n",
    "\n",
    "a/b"
   ]
  },
  {
   "cell_type": "code",
   "execution_count": 3,
   "id": "de1d1132-5cfb-4784-bb94-b6f5bc370bb6",
   "metadata": {},
   "outputs": [
    {
     "data": {
      "text/plain": [
       "17"
      ]
     },
     "execution_count": 3,
     "metadata": {},
     "output_type": "execute_result"
    }
   ],
   "source": [
    "#This a simple arithmetic expression to mutiply then add integers\n",
    "\n",
    "(3*4)+5\n"
   ]
  },
  {
   "cell_type": "code",
   "execution_count": 7,
   "id": "0b03adaf-53dd-4ea5-925b-c5d3dab131d6",
   "metadata": {},
   "outputs": [
    {
     "name": "stdout",
     "output_type": "stream",
     "text": [
      "total number of hours are 3.3333333333333335\n"
     ]
    }
   ],
   "source": [
    "#This will convert 200 minutes to hours by diving by 60\n",
    "\n",
    "convert_hours = 200/60\n",
    "print(f\"total number of hours are {convert_hours}\")"
   ]
  },
  {
   "cell_type": "markdown",
   "id": "ba74cff7-2c3f-4677-bd99-4ca959f5bf29",
   "metadata": {},
   "source": [
    "## Author :\n",
    "Hassam Nasir"
   ]
  },
  {
   "cell_type": "code",
   "execution_count": null,
   "id": "5eba0d66-0ed1-4293-9f74-4ea5cb4d4a29",
   "metadata": {},
   "outputs": [],
   "source": []
  }
 ],
 "metadata": {
  "kernelspec": {
   "display_name": "Python 3 (ipykernel)",
   "language": "python",
   "name": "python3"
  },
  "language_info": {
   "codemirror_mode": {
    "name": "ipython",
    "version": 3
   },
   "file_extension": ".py",
   "mimetype": "text/x-python",
   "name": "python",
   "nbconvert_exporter": "python",
   "pygments_lexer": "ipython3",
   "version": "3.13.5"
  }
 },
 "nbformat": 4,
 "nbformat_minor": 5
}
